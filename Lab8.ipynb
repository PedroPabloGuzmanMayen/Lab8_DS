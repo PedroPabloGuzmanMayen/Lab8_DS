{
 "cells": [
  {
   "cell_type": "markdown",
   "metadata": {
    "application/vnd.databricks.v1+cell": {
     "cellMetadata": {},
     "inputWidgets": {},
     "nuid": "36623aff-87ea-4611-9876-5ab864484221",
     "showTitle": false,
     "tableResultSettingsMap": {},
     "title": ""
    }
   },
   "source": [
    "# Laboratorio 8"
   ]
  },
  {
   "cell_type": "markdown",
   "metadata": {
    "application/vnd.databricks.v1+cell": {
     "cellMetadata": {},
     "inputWidgets": {},
     "nuid": "5eb90287-c323-45b4-b286-ab835fab09ff",
     "showTitle": false,
     "tableResultSettingsMap": {},
     "title": ""
    }
   },
   "source": [
    "Vamos a empezar uniendo todos los datasets. Empezamos con el de hechos. En una exploración inicial se vio que cada dataset tiene diferentes nombres para columnas con los mismos valores y que en los años recientes se han añadido más campos, vamos a ver cuales en específico cumplen con esto\n"
   ]
  },
  {
   "cell_type": "markdown",
   "metadata": {
    "application/vnd.databricks.v1+cell": {
     "cellMetadata": {},
     "inputWidgets": {},
     "nuid": "23e32829-7eb9-4661-b68b-cf60dcff568c",
     "showTitle": false,
     "tableResultSettingsMap": {},
     "title": ""
    }
   },
   "source": [
    "Sabiendo esto vamos a unirlos con las columnas en comun. "
   ]
  },
  {
   "cell_type": "code",
   "execution_count": 0,
   "metadata": {
    "application/vnd.databricks.v1+cell": {
     "cellMetadata": {
      "byteLimit": 2048000,
      "rowLimit": 10000
     },
     "inputWidgets": {},
     "nuid": "7037baac-5dea-4c4d-b7a1-bae9a7d61cfc",
     "showTitle": false,
     "tableResultSettingsMap": {},
     "title": ""
    }
   },
   "outputs": [],
   "source": [
    "import pandas as pd\n",
    "\n",
    "hechos_files = [\"Hechos_2013.csv\", \n",
    "                \"Hechos_2014.csv\", \n",
    "                \"Hechos_2015.csv\", \n",
    "                \"Hechos_2016.csv\",\n",
    "                \"Hechos_2017.csv\",\n",
    "                \"Hechos_2018.csv\",\n",
    "                \"Hechos_2019.csv\",\n",
    "                \"Hechos_2020.csv\",\n",
    "                \"Hechos_2021.csv\",\n",
    "                \"Hechos_2022.csv\",\n",
    "                \"Hechos_2023.csv\"]\n",
    "lesionados_files = [\"Lesionados_2013.csv\",\n",
    "                    \"Lesionados_2014.csv\",\n",
    "                    \"Lesionados_2015.csv\",\n",
    "                    \"Lesionados_2016.csv\",\n",
    "                    \"Lesionados_2017.csv\",\n",
    "                    \"Lesionados_2018.csv\",\n",
    "                    \"Lesionados_2019.csv\",\n",
    "                    \"Lesionados_2020.csv\",\n",
    "                    \"Lesionados_2021.csv\",\n",
    "                    \"Lesionados_2022.csv\",\n",
    "                    \"Lesionados_2023.csv\"]\n",
    "\n",
    "vehiculos_files = [\n",
    "                    \"Vehículos_2013.csv\",\n",
    "                    \"Vehículos_2014.csv\",\n",
    "                    \"Vehículos_2015.csv\",\n",
    "                    \"Vehículos_2016.csv\",\n",
    "                    \"Vehículos_2017.csv\",\n",
    "                    \"Vehículos_2018.csv\",\n",
    "                    \"Vehículos_2019.csv\",\n",
    "                    \"Vehículos_2020.csv\",\n",
    "                    \"Vehículos_2021.csv\",\n",
    "                    \"Vehículos_2022.csv\",\n",
    "                    \"Vehículos_2023.csv\"\n",
    "                    ]\n",
    "\n",
    "hechos_df = pd.concat([pd.read_csv(\"/Volumes/workspace/default/lab8_new/\"+f) for f in hechos_files], ignore_index=True)\n",
    "lesionados_df = pd.concat([pd.read_csv(\"/Volumes/workspace/default/lab8_new/\"+f) for f in lesionados_files], ignore_index=True)\n",
    "vehiculos_df = pd.concat([pd.read_csv(\"/Volumes/workspace/default/lab8_new/\"+f) for f in vehiculos_files], ignore_index=True)\n",
    "\n",
    "print(\"Filas Hechos:\", len(hechos_df))\n",
    "print(\"Filas Lesionados:\", len(lesionados_df))\n",
    "print(\"Filas Vehículos:\", len(vehiculos_df))\n",
    "\n",
    "common_cols = set(hechos_df.columns) & set(lesionados_df.columns) & set(vehiculos_df.columns)\n",
    "print(\"Columnas comunes usadas para el merge:\", common_cols)\n",
    "\n",
    "merged_df = pd.merge(hechos_df, lesionados_df, on=list(common_cols), how=\"outer\")\n",
    "merged_df = pd.merge(merged_df, vehiculos_df, on=list(common_cols), how=\"outer\")\n",
    "\n",
    "output_file = \"/Volumes/workspace/default/lab8_new/Datos_Combinados_2013_2023.csv\"\n",
    "\n",
    "merged_df.to_csv(output_file, index=False, encoding=\"utf-8\")\n",
    "\n",
    "\n",
    "print(\"Columnas finales:\", merged_df.columns.tolist())\n",
    "print(\"Filas totales después del merge:\", len(merged_df))\n",
    "print(f\"Archivo combinado guardado como: {output_file}\")\n"
   ]
  },
  {
   "cell_type": "markdown",
   "metadata": {
    "application/vnd.databricks.v1+cell": {
     "cellMetadata": {},
     "inputWidgets": {},
     "nuid": "ec9aae96-2fe2-45a9-a9f9-bb446976f8e7",
     "showTitle": false,
     "tableResultSettingsMap": {},
     "title": ""
    }
   },
   "source": [
    "## Analisis Exploratorio\n",
    "\n",
    "**Mostrar cuántos registros hay en cada dataset (hechos, vehículos, fallecidos,\n",
    "lesionados). Muestre algunos resultados con la función .show(). Genere un describe y\n",
    "summary para aquellas columnas que considere importantes según cada archivo.**"
   ]
  },
  {
   "cell_type": "code",
   "execution_count": 0,
   "metadata": {
    "application/vnd.databricks.v1+cell": {
     "cellMetadata": {
      "byteLimit": 2048000,
      "rowLimit": 10000
     },
     "inputWidgets": {},
     "nuid": "2aa6d26b-57b4-462c-bc53-a43b1f0f1045",
     "showTitle": false,
     "tableResultSettingsMap": {},
     "title": ""
    }
   },
   "outputs": [],
   "source": [
    "import pandas as pd\n",
    "\n",
    "\n",
    "base_path = \"/Volumes/workspace/default/lab8_new/\"\n",
    "# --- Función para cargar y concatenar --- #\n",
    "def load_concat(files):\n",
    "    return pd.concat([pd.read_csv(base_path + f) for f in files], ignore_index=True)\n",
    "\n",
    "# --- Cargar datasets --- #\n",
    "hechos_df = load_concat(hechos_files)\n",
    "lesionados_df = load_concat(lesionados_files)\n",
    "vehiculos_df = load_concat(vehiculos_files)\n",
    "\n",
    "# --- Mostrar número de registros --- #\n",
    "print(\"Registros por dataset:\")\n",
    "print(f\"Hechos: {len(hechos_df)}\")\n",
    "print(f\"Lesionados: {len(lesionados_df)}\")\n",
    "print(f\"Vehículos: {len(vehiculos_df)}\\n\")\n",
    "\n",
    "# --- Mostrar algunos registros --- #\n",
    "print(\"Ejemplo de Hechos:\")\n",
    "print(hechos_df.head(), \"\\n\")\n",
    "\n",
    "print(\"Ejemplo de Lesionados:\")\n",
    "print(lesionados_df.head(), \"\\n\")\n",
    "\n",
    "print(\"Ejemplo de Vehículos:\")\n",
    "print(vehiculos_df.head(), \"\\n\")\n",
    "\n",
    "# --- Estadísticas descriptivas (describe) --- #\n",
    "num_cols_hechos = hechos_df.select_dtypes(include='number').columns.tolist()\n",
    "num_cols_lesionados = lesionados_df.select_dtypes(include='number').columns.tolist()\n",
    "num_cols_vehiculos = vehiculos_df.select_dtypes(include='number').columns.tolist()\n",
    "\n",
    "print(\"Describe Hechos:\")\n",
    "print(hechos_df[num_cols_hechos].describe(), \"\\n\")\n",
    "\n",
    "print(\"Describe Lesionados:\")\n",
    "print(lesionados_df[num_cols_lesionados].describe(), \"\\n\")\n",
    "\n",
    "print(\"Describe Vehículos:\")\n",
    "print(vehiculos_df[num_cols_vehiculos].describe(), \"\\n\")\n",
    "\n",
    "# --- Resúmenes categóricos --- #\n",
    "cat_cols_hechos = ['Tipo de accidente', 'Departamento']\n",
    "cat_cols_lesionados = ['Tipo de lesión', 'Sexo']\n",
    "\n",
    "for col in cat_cols_hechos:\n",
    "    if col in hechos_df.columns:\n",
    "        print(f\"Resumen categórico Hechos ({col}):\")\n",
    "        print(hechos_df[col].value_counts(), \"\\n\")\n",
    "\n",
    "for col in cat_cols_lesionados:\n",
    "    if col in lesionados_df.columns:\n",
    "        print(f\"Resumen categórico Lesionados ({col}):\")\n",
    "        print(lesionados_df[col].value_counts(), \"\\n\")\n"
   ]
  },
  {
   "cell_type": "markdown",
   "metadata": {
    "application/vnd.databricks.v1+cell": {
     "cellMetadata": {},
     "inputWidgets": {},
     "nuid": "3abd2eae-b85b-466c-933f-23b579e1f9ca",
     "showTitle": false,
     "tableResultSettingsMap": {},
     "title": ""
    }
   },
   "source": [
    "**Identificar los años disponibles en cada dataset y validar si coinciden.**"
   ]
  },
  {
   "cell_type": "code",
   "execution_count": 0,
   "metadata": {
    "application/vnd.databricks.v1+cell": {
     "cellMetadata": {
      "byteLimit": 2048000,
      "rowLimit": 10000
     },
     "inputWidgets": {},
     "nuid": "6c9f4d87-a9ff-4ef5-a893-5775d4054765",
     "showTitle": false,
     "tableResultSettingsMap": {},
     "title": ""
    }
   },
   "outputs": [],
   "source": [
    "# Función para extraer años únicos de una columna de fecha o año\n",
    "def extraer_anios(df, col_name):\n",
    "    if col_name in df.columns:\n",
    "        # Si la columna es de tipo fecha, extraemos el año\n",
    "        if pd.api.types.is_datetime64_any_dtype(df[col_name]):\n",
    "            return df[col_name].dt.year.unique()\n",
    "        # Si la columna es numérica, asumimos que contiene el año\n",
    "        elif pd.api.types.is_numeric_dtype(df[col_name]):\n",
    "            return df[col_name].unique()\n",
    "        # Si es texto, intentamos convertir a datetime\n",
    "        else:\n",
    "            try:\n",
    "                return pd.to_datetime(df[col_name], errors='coerce').dt.year.dropna().unique()\n",
    "            except:\n",
    "                return []\n",
    "    else:\n",
    "        return []\n",
    "\n",
    "fecha_col_hechos = 'Fecha'      # columna con fecha en hechos\n",
    "fecha_col_lesionados = 'Fecha'  # columna con fecha en lesionados\n",
    "fecha_col_vehiculos = 'Fecha'   # columna con fecha en vehículos\n",
    "\n",
    "anios_hechos = sorted(extraer_anios(hechos_df, fecha_col_hechos))\n",
    "anios_lesionados = sorted(extraer_anios(lesionados_df, fecha_col_lesionados))\n",
    "anios_vehiculos = sorted(extraer_anios(vehiculos_df, fecha_col_vehiculos))\n",
    "\n",
    "print(\"Años disponibles en Hechos:\", anios_hechos)\n",
    "print(\"Años disponibles en Lesionados:\", anios_lesionados)\n",
    "print(\"Años disponibles en Vehículos:\", anios_vehiculos)\n",
    "\n",
    "if anios_hechos == anios_lesionados == anios_vehiculos:\n",
    "    print(\"\\n✅ Todos los datasets tienen los mismos años disponibles.\")\n",
    "else:\n",
    "    print(\"\\n⚠️ Los datasets tienen años distintos. Diferencias:\")\n",
    "    print(\"Hechos vs Lesionados:\", set(anios_hechos) - set(anios_lesionados))\n",
    "    print(\"Hechos vs Vehículos:\", set(anios_hechos) - set(anios_vehiculos))\n",
    "    print(\"Lesionados vs Vehículos:\", set(anios_lesionados) - set(anios_vehiculos))"
   ]
  },
  {
   "cell_type": "markdown",
   "metadata": {
    "application/vnd.databricks.v1+cell": {
     "cellMetadata": {},
     "inputWidgets": {},
     "nuid": "10065ef6-b582-4ace-bfc0-75c9f51d8a60",
     "showTitle": false,
     "tableResultSettingsMap": {},
     "title": ""
    }
   },
   "source": [
    "Como podemos ver todos tienen los mismos años disponibles."
   ]
  },
  {
   "cell_type": "markdown",
   "metadata": {
    "application/vnd.databricks.v1+cell": {
     "cellMetadata": {},
     "inputWidgets": {},
     "nuid": "4e4ee755-b3fc-401c-a284-6d2908f4861c",
     "showTitle": false,
     "tableResultSettingsMap": {},
     "title": ""
    }
   },
   "source": [
    "**Mostrar los valores distintos de tipo de accidente**"
   ]
  },
  {
   "cell_type": "code",
   "execution_count": 0,
   "metadata": {
    "application/vnd.databricks.v1+cell": {
     "cellMetadata": {
      "byteLimit": 2048000,
      "rowLimit": 10000
     },
     "inputWidgets": {},
     "nuid": "f4412ccd-e3d8-41df-aa73-fd62d003c6a6",
     "showTitle": false,
     "tableResultSettingsMap": {},
     "title": ""
    }
   },
   "outputs": [],
   "source": [
    "if 'causa_acc' in hechos_df.columns:\n",
    "    tipos_accidente = hechos_df['causa_acc'].unique()\n",
    "    print(\"Valores distintos de tipo de accidente (causa_acc):\")\n",
    "    print(tipos_accidente)\n",
    "    \n",
    "    print(\"\\nFrecuencia de cada tipo de accidente:\")\n",
    "    print(hechos_df['causa_acc'].value_counts())\n",
    "else:\n",
    "    print(\"La columna 'causa_acc' no existe en hechos_df.\")\n"
   ]
  },
  {
   "cell_type": "markdown",
   "metadata": {
    "application/vnd.databricks.v1+cell": {
     "cellMetadata": {},
     "inputWidgets": {},
     "nuid": "b9d151b3-910c-4500-afe9-5c900738989f",
     "showTitle": false,
     "tableResultSettingsMap": {},
     "title": ""
    }
   },
   "source": [
    "podemos ver que el mas frecuente son los accidentes de tipo 5."
   ]
  },
  {
   "cell_type": "markdown",
   "metadata": {
    "application/vnd.databricks.v1+cell": {
     "cellMetadata": {},
     "inputWidgets": {},
     "nuid": "236885c5-7c35-48cd-8b3f-de0783a0dbad",
     "showTitle": false,
     "tableResultSettingsMap": {},
     "title": ""
    }
   },
   "source": [
    "**Calcular cuántos departamentos únicos aparecen en las bases**"
   ]
  },
  {
   "cell_type": "code",
   "execution_count": 0,
   "metadata": {
    "application/vnd.databricks.v1+cell": {
     "cellMetadata": {
      "byteLimit": 2048000,
      "rowLimit": 10000
     },
     "inputWidgets": {},
     "nuid": "486161f9-eed0-43a6-b5e4-59a8cf8bf1ef",
     "showTitle": false,
     "tableResultSettingsMap": {},
     "title": ""
    }
   },
   "outputs": [],
   "source": [
    "# --- Departamentos únicos --- #\n",
    "if 'depto_ocu' in hechos_df.columns:\n",
    "    deptos_hechos = hechos_df['depto_ocu'].unique()\n",
    "    print(f\"Hechos - departamentos únicos ({len(deptos_hechos)}):\")\n",
    "    print(deptos_hechos, \"\\n\")\n",
    "\n",
    "if 'depto_ocu' in lesionados_df.columns:\n",
    "    deptos_lesionados = lesionados_df['depto_ocu'].unique()\n",
    "    print(f\"Lesionados - departamentos únicos ({len(deptos_lesionados)}):\")\n",
    "    print(deptos_lesionados, \"\\n\")\n",
    "\n",
    "if 'depto_ocu' in vehiculos_df.columns:\n",
    "    deptos_vehiculos = vehiculos_df['depto_ocu'].unique()\n",
    "    print(f\"Vehículos - departamentos únicos ({len(deptos_vehiculos)}):\")\n",
    "    print(deptos_vehiculos, \"\\n\")\n"
   ]
  },
  {
   "cell_type": "markdown",
   "metadata": {
    "application/vnd.databricks.v1+cell": {
     "cellMetadata": {},
     "inputWidgets": {},
     "nuid": "90757448-70f2-4709-b670-dc657c0dab09",
     "showTitle": false,
     "tableResultSettingsMap": {},
     "title": ""
    }
   },
   "source": [
    "Vemos que los vehiculos tienen 44 , lesionados tienen 44 y hechos tienen mas que son 50"
   ]
  },
  {
   "cell_type": "markdown",
   "metadata": {
    "application/vnd.databricks.v1+cell": {
     "cellMetadata": {},
     "inputWidgets": {},
     "nuid": "6675fad8-5c22-403b-91d0-8818f44669a5",
     "showTitle": false,
     "tableResultSettingsMap": {},
     "title": ""
    }
   },
   "source": [
    "## PREGUNTAS DE ANÁLISIS "
   ]
  },
  {
   "cell_type": "code",
   "execution_count": 0,
   "metadata": {
    "application/vnd.databricks.v1+cell": {
     "cellMetadata": {
      "byteLimit": 2048000,
      "rowLimit": 10000
     },
     "inputWidgets": {},
     "nuid": "c639d75e-31ec-43e2-abb6-90afa563e752",
     "showTitle": false,
     "tableResultSettingsMap": {},
     "title": ""
    }
   },
   "outputs": [],
   "source": [
    "from pyspark.sql import SparkSession\n",
    "\n",
    "spark = SparkSession.builder.getOrCreate()\n",
    "\n",
    "# Leer CSV desde el path local\n",
    "df = spark.read.option(\"header\", \"true\").option(\"inferSchema\", \"true\") \\\n",
    "    .csv(\"/Volumes/workspace/default/lab8_new/Datos_Combinados_2013_2023.csv\")\n",
    "\n",
    "# Mostrar columnas\n",
    "print(\"Columnas del DataFrame:\")\n",
    "print(df.columns)\n",
    "\n",
    "# Mostrar esquema completo\n",
    "df.printSchema()\n"
   ]
  },
  {
   "cell_type": "markdown",
   "metadata": {
    "application/vnd.databricks.v1+cell": {
     "cellMetadata": {},
     "inputWidgets": {},
     "nuid": "d9ef472f-b1a3-4c99-852b-7b7bef5f3612",
     "showTitle": false,
     "tableResultSettingsMap": {},
     "title": ""
    }
   },
   "source": [
    "**¿Cuál es el total de accidentes por año y departamento? Apóyese de la función\n",
    "groupBy. Investigue la función display que tiene Databricks y muestre su resultado en\n",
    "formato de gráfico de barras**"
   ]
  },
  {
   "cell_type": "code",
   "execution_count": 0,
   "metadata": {
    "application/vnd.databricks.v1+cell": {
     "cellMetadata": {
      "byteLimit": 2048000,
      "rowLimit": 10000
     },
     "inputWidgets": {},
     "nuid": "589bc792-6add-4aca-984d-072a1458f9c4",
     "showTitle": false,
     "tableResultSettingsMap": {
      "0": {
       "dataGridStateBlob": "{\"version\":1,\"tableState\":{\"columnPinning\":{\"left\":[\"#row_number#\"],\"right\":[]},\"columnSizing\":{},\"columnVisibility\":{}},\"settings\":{\"columns\":{}},\"syncTimestamp\":1759542494498}",
       "filterBlob": null,
       "queryPlanFiltersBlob": null,
       "tableResultIndex": 0
      }
     },
     "title": ""
    }
   },
   "outputs": [],
   "source": [
    "from pyspark.sql.functions import col\n",
    "\n",
    "# Seleccionamos solo las columnas que necesitamos: año y departamento\n",
    "df_sel = df.select(\n",
    "    col(\"año_ocu\").alias(\"anio\"),\n",
    "    col(\"depto_ocu\").alias(\"departamento\")\n",
    ")\n",
    "\n",
    "# Filtrar filas donde año o departamento sean nulos\n",
    "df_clean = df_sel.dropna(subset=[\"anio\", \"departamento\"])\n",
    "\n",
    "accidentes_anio_depto = df_clean.groupBy(\"anio\", \"departamento\").count().orderBy(\"anio\", \"departamento\")\n",
    "\n",
    "display(accidentes_anio_depto)  # En Databricks, display permite elegir gráfico de barras desde la UI"
   ]
  },
  {
   "cell_type": "code",
   "execution_count": 0,
   "metadata": {
    "application/vnd.databricks.v1+cell": {
     "cellMetadata": {
      "byteLimit": 2048000,
      "rowLimit": 10000
     },
     "inputWidgets": {},
     "nuid": "1dfc5b81-d4c6-4a95-836b-9a7ebb1f65ad",
     "showTitle": false,
     "tableResultSettingsMap": {},
     "title": ""
    }
   },
   "outputs": [],
   "source": [
    "import pandas as pd\n",
    "import matplotlib.pyplot as plt\n",
    "\n",
    "# Convertir a Pandas\n",
    "df_pandas = accidentes_anio_depto.toPandas()\n",
    "\n",
    "# Crear pivot para mejor visualización\n",
    "df_pivot = df_pandas.pivot(index='departamento', columns='anio', values='count').fillna(0)\n",
    "\n",
    "# Crear gráfico de barras\n",
    "df_pivot.plot(kind='bar', figsize=(15, 6), width=0.8)\n",
    "plt.title('Accidentes por Departamento y Año')\n",
    "plt.xlabel('Departamento')\n",
    "plt.ylabel('Cantidad de Accidentes')\n",
    "plt.legend(title='Año')\n",
    "plt.xticks(rotation=45, ha='right')\n",
    "plt.tight_layout()\n",
    "plt.show()"
   ]
  },
  {
   "cell_type": "markdown",
   "metadata": {
    "application/vnd.databricks.v1+cell": {
     "cellMetadata": {},
     "inputWidgets": {},
     "nuid": "444b76d9-9b98-4944-aec7-7c55bf94c2a7",
     "showTitle": false,
     "tableResultSettingsMap": {},
     "title": ""
    }
   },
   "source": [
    "Podemos ver que el que mas tiene es el de Guatemala, seguido por el de Escuintla."
   ]
  },
  {
   "cell_type": "markdown",
   "metadata": {
    "application/vnd.databricks.v1+cell": {
     "cellMetadata": {},
     "inputWidgets": {},
     "nuid": "b9376b85-dd3e-470c-a175-9b90c6f6ad64",
     "showTitle": false,
     "tableResultSettingsMap": {},
     "title": ""
    }
   },
   "source": [
    "**¿Qué día de la semana registra más accidentes en 2023? Graficar con display en un\n",
    "gráfico de columnas.**"
   ]
  },
  {
   "cell_type": "code",
   "execution_count": 0,
   "metadata": {
    "application/vnd.databricks.v1+cell": {
     "cellMetadata": {
      "byteLimit": 2048000,
      "rowLimit": 10000
     },
     "inputWidgets": {},
     "nuid": "2f995e53-c829-46a5-bcf9-50c123695d45",
     "showTitle": false,
     "tableResultSettingsMap": {
      "0": {
       "dataGridStateBlob": "{\"version\":1,\"tableState\":{\"columnPinning\":{\"left\":[\"#row_number#\"],\"right\":[]},\"columnSizing\":{\"#row_number#\":36},\"columnVisibility\":{}},\"settings\":{\"columns\":{}},\"syncTimestamp\":1759543190357}",
       "filterBlob": null,
       "queryPlanFiltersBlob": null,
       "tableResultIndex": 0
      }
     },
     "title": ""
    }
   },
   "outputs": [],
   "source": [
    "from pyspark.sql.functions import col, count\n",
    "import matplotlib.pyplot as plt\n",
    "\n",
    "# Filtrar solo datos de 2023 y eliminar nulos en día_sem_ocu\n",
    "df_2023 = df.filter((col(\"año_ocu\") == 2023) & (col(\"día_sem_ocu\").isNotNull()))\n",
    "\n",
    "# Agrupar por día de la semana y contar accidentes\n",
    "accidentes_por_dia = df_2023.groupBy(\"día_sem_ocu\").count().orderBy(\"día_sem_ocu\")\n",
    "\n",
    "# Mostrar la tabla\n",
    "display(accidentes_por_dia)\n"
   ]
  },
  {
   "cell_type": "code",
   "execution_count": 0,
   "metadata": {
    "application/vnd.databricks.v1+cell": {
     "cellMetadata": {
      "byteLimit": 2048000,
      "rowLimit": 10000
     },
     "inputWidgets": {},
     "nuid": "c7776dbe-5429-4e92-acce-606a45b99c22",
     "showTitle": false,
     "tableResultSettingsMap": {},
     "title": ""
    }
   },
   "outputs": [],
   "source": [
    "import matplotlib.pyplot as plt\n",
    "\n",
    "# Convertir a Pandas para graficar\n",
    "df_pandas = accidentes_por_dia.toPandas()\n",
    "\n",
    "# Crear gráfico de columnas\n",
    "fig, ax = plt.subplots(figsize=(12, 6))\n",
    "bars = ax.bar(df_pandas['día_sem_ocu'], df_pandas['count'], color='steelblue', edgecolor='black', linewidth=1.5)\n",
    "\n",
    "ax.set_title('Accidentes por Día de la Semana en 2023', fontsize=16, fontweight='bold', pad=20)\n",
    "ax.set_xlabel('Día de la Semana', fontsize=12)\n",
    "ax.set_ylabel('Cantidad de Accidentes', fontsize=12)\n",
    "ax.tick_params(axis='x', rotation=45)\n",
    "ax.grid(axis='y', alpha=0.3, linestyle='--')\n",
    "\n",
    "# Agregar valores sobre las barras\n",
    "for bar in bars:\n",
    "    height = bar.get_height()\n",
    "    ax.text(bar.get_x() + bar.get_width()/2., height,\n",
    "            f'{int(height)}',\n",
    "            ha='center', va='bottom', fontsize=10, fontweight='bold')\n",
    "\n",
    "plt.subplots_adjust(bottom=0.2)\n",
    "plt.show()\n",
    "\n",
    "# Mostrar el día con más accidentes\n",
    "dia_max_idx = df_pandas['count'].idxmax()\n",
    "dia_max = df_pandas.iloc[dia_max_idx]\n",
    "print(f\"\\n📊 Día con más accidentes en 2023: {dia_max['día_sem_ocu']} con {int(dia_max['count'])} accidentes\")"
   ]
  },
  {
   "cell_type": "markdown",
   "metadata": {
    "application/vnd.databricks.v1+cell": {
     "cellMetadata": {},
     "inputWidgets": {},
     "nuid": "a07ce703-2575-478f-ad94-247747c5fa8e",
     "showTitle": false,
     "tableResultSettingsMap": {},
     "title": ""
    }
   },
   "source": [
    "Vemos que el dia con mas accidentes es Domingo , posiblemente porque en este dia la gente sale mas y como es fin de semana tiene menor precaucion.\n"
   ]
  },
  {
   "cell_type": "markdown",
   "metadata": {
    "application/vnd.databricks.v1+cell": {
     "cellMetadata": {},
     "inputWidgets": {},
     "nuid": "9362073d-d603-4e9d-95cd-8c33d549e431",
     "showTitle": false,
     "tableResultSettingsMap": {},
     "title": ""
    }
   },
   "source": [
    "**Mostrar la distribución de accidentes por hora del día en el municipio de\n",
    "Guatemala. Graficar en un histograma**\n"
   ]
  },
  {
   "cell_type": "code",
   "execution_count": 0,
   "metadata": {
    "application/vnd.databricks.v1+cell": {
     "cellMetadata": {
      "byteLimit": 2048000,
      "rowLimit": 10000
     },
     "inputWidgets": {},
     "nuid": "e1b1c6bb-73d1-4011-a809-cb97caf74620",
     "showTitle": false,
     "tableResultSettingsMap": {},
     "title": ""
    }
   },
   "outputs": [],
   "source": [
    "\n",
    "\n",
    "# Filtrar datos del municipio de Guatemala\n",
    "# Primero verificar el nombre exacto del municipio\n",
    "print(\"Municipios únicos:\")\n",
    "df.select(\"mupio_ocu\").distinct().show(50, truncate=False)\n",
    "\n",
    "# Filtrar por municipio de Guatemala y eliminar nulos en hora_ocu\n",
    "df_guatemala = df.filter(\n",
    "    (col(\"mupio_ocu\") == \"Guatemala\") & \n",
    "    (col(\"hora_ocu\").isNotNull())\n",
    ")\n",
    "\n",
    "# Seleccionar solo la hora\n",
    "accidentes_por_hora = df_guatemala.select(\"hora_ocu\")\n",
    "\n",
    "# Mostrar tabla agrupada\n",
    "display(df_guatemala.groupBy(\"hora_ocu\").count().orderBy(\"hora_ocu\"))\n",
    "\n",
    "# Convertir a Pandas\n",
    "df_pandas = accidentes_por_hora.toPandas()\n",
    "\n",
    "# Convertir hora_ocu a numérico (puede estar en formato HH:MM o solo hora)\n",
    "# Extraer solo la hora si está en formato HH:MM\n",
    "df_pandas['hora'] = df_pandas['hora_ocu'].astype(str).str.split(':').str[0]\n",
    "df_pandas['hora'] = pd.to_numeric(df_pandas['hora'], errors='coerce')\n",
    "\n",
    "# Eliminar valores nulos o inválidos\n",
    "df_pandas = df_pandas.dropna(subset=['hora'])\n",
    "df_pandas = df_pandas[(df_pandas['hora'] >= 0) & (df_pandas['hora'] <= 23)]\n",
    "\n",
    "# Crear histograma\n",
    "fig, ax = plt.subplots(figsize=(14, 6))\n",
    "n, bins, patches = ax.hist(df_pandas['hora'], bins=24, range=(0, 24), \n",
    "                           color='coral', edgecolor='black', linewidth=1.2, alpha=0.7)\n",
    "\n",
    "ax.set_title('Distribución de Accidentes por Hora del Día en Guatemala', \n",
    "             fontsize=16, fontweight='bold', pad=20)\n",
    "ax.set_xlabel('Hora del Día (0-23)', fontsize=12)\n",
    "ax.set_ylabel('Cantidad de Accidentes', fontsize=12)\n",
    "ax.set_xticks(range(0, 24))\n",
    "ax.grid(axis='y', alpha=0.3, linestyle='--')\n",
    "\n",
    "# Agregar valores sobre las barras\n",
    "for i in range(len(n)):\n",
    "    if n[i] > 0:\n",
    "        ax.text(bins[i] + 0.5, n[i], f'{int(n[i])}', \n",
    "                ha='center', va='bottom', fontsize=8)\n",
    "\n",
    "plt.subplots_adjust(bottom=0.1)\n",
    "plt.show()\n",
    "\n",
    "# Estadísticas\n",
    "print(f\"\\n📊 Total de accidentes en Guatemala: {len(df_pandas)}\")\n",
    "print(f\"🕐 Hora con más accidentes: {int(df_pandas['hora'].mode()[0])}:00 hrs\")"
   ]
  },
  {
   "cell_type": "markdown",
   "metadata": {
    "application/vnd.databricks.v1+cell": {
     "cellMetadata": {},
     "inputWidgets": {},
     "nuid": "8081c77c-dadb-47bc-95f3-9236eefc36c7",
     "showTitle": false,
     "tableResultSettingsMap": {},
     "title": ""
    }
   },
   "source": [
    "Podemos ver que en Guatemala a la hora con mas accidentes es en la noche. Muy posiblemente porque al ser una hora muy tarde se tiene poca visibilidad."
   ]
  },
  {
   "cell_type": "code",
   "execution_count": 0,
   "metadata": {
    "application/vnd.databricks.v1+cell": {
     "cellMetadata": {
      "byteLimit": 2048000,
      "rowLimit": 10000
     },
     "inputWidgets": {},
     "nuid": "8af5f5a8-2f24-47d5-9383-e48993e08e78",
     "showTitle": false,
     "tableResultSettingsMap": {},
     "title": ""
    }
   },
   "outputs": [],
   "source": [
    "from pyspark.sql import SparkSession\n",
    "from pyspark.sql.functions import lit\n",
    "import unicodedata\n",
    "\n",
    "spark = SparkSession.builder.getOrCreate()\n",
    "\n",
    "def normalize_col(colname: str) -> str:\n",
    "    colname = colname.strip().lower()\n",
    "    colname = unicodedata.normalize('NFKD', colname).encode('ascii', 'ignore').decode('utf-8')\n",
    "    return colname\n",
    "\n",
    "hechos_renames = {\n",
    "    \"num_hecho\": \"num_corre\", \"num_correlativo\": \"num_corre\", \"num_corre\": \"num_corre\", \"num\": \"num_corre\", \"nro_hecho\": \"num_corre\",\n",
    "    \"dia_ocu\": \"dia_ocu\", \"dia\": \"dia_ocu\", \"dia_ocurrencia\": \"dia_ocu\",\n",
    "    \"mes_ocu\": \"mes_ocu\", \"mes\": \"mes_ocu\",\n",
    "    \"anio_ocu\": \"anio_ocu\", \"ano_ocu\": \"anio_ocu\", \"año_ocu\": \"anio_ocu\",\n",
    "    \"hora_ocu\": \"hora_ocu\", \"hora\": \"hora_ocu\",\n",
    "    \"g_hora\": \"g_hora\", \"g_hora_5\": \"g_hora_5\",\n",
    "    \"areag_ocu\": \"area_geo_ocu\", \"area_geo_ocu\": \"area_geo_ocu\",\n",
    "    \"depto_ocu\": \"depto_ocu\", \"mupio_ocu\": \"mupio_ocu\", \"zona_ocu\": \"zona_ocu\",\n",
    "    \"sexo_pil\": \"sexo\", \"sexo_con\": \"sexo\", \"sexo_per\": \"sexo\",\n",
    "    \"edad_pil\": \"edad\", \"edad_con\": \"edad\", \"edad_per\": \"edad\",\n",
    "    \"estado_pil\": \"estado_con\", \"estado_con\": \"estado_con\",\n",
    "    \"marca_veh\": \"marca_veh\", \"tipo_veh\": \"tipo_veh\", \"color_veh\": \"color_veh\", \"modelo_veh\": \"modelo_veh\",\n",
    "    \"g_modelo_veh\": \"g_modelo_veh\", \"tipo_eve\": \"tipo_eve\"\n",
    "}\n",
    "\n",
    "vehiculos_renames = hechos_renames \n",
    "\n",
    "hechos_final_cols = [\n",
    "    \"num_corre\", \"anio_ocu\", \"mes_ocu\", \"dia_ocu\", \"dia_sem_ocu\", \"hora_ocu\", \"g_hora\", \"g_hora_5\",\n",
    "    \"depto_ocu\", \"mupio_ocu\", \"area_geo_ocu\", \"zona_ocu\", \"sexo\", \"edad\", \"mayor_menor\",\n",
    "    \"estado_con\", \"tipo_veh\", \"marca_veh\", \"color_veh\", \"modelo_veh\", \"g_modelo_veh\", \"tipo_eve\", \"causa_acc\"\n",
    "]\n",
    "\n",
    "vehiculos_final_cols = hechos_final_cols[:-1]  \n",
    "\n",
    "def normalizar_df(path, year, renames, final_cols):\n",
    "    df = (spark.read\n",
    "        .option(\"header\", \"true\")\n",
    "        .option(\"inferSchema\", \"true\")\n",
    "        .csv(\"/Volumes/workspace/default/lab8_new/\" + path))\n",
    "\n",
    "    df = df.toDF(*[normalize_col(c) for c in df.columns])\n",
    "\n",
    "    for old, new in renames.items():\n",
    "        if old in df.columns:\n",
    "            df = df.withColumnRenamed(old, new)\n",
    "\n",
    "\n",
    "    if \"anio_ocu\" not in df.columns:\n",
    "        df = df.withColumn(\"anio_ocu\", lit(year))\n",
    "\n",
    "    for c in final_cols:\n",
    "        if c not in df.columns:\n",
    "            df = df.withColumn(c, lit(None))\n",
    "    df = df.select(final_cols)\n",
    "    return df\n",
    "\n",
    "hechos_dfs = [normalizar_df(f, year, hechos_renames, hechos_final_cols) for f, year in zip(hechos_files, range(2013, 2024))]\n",
    "hechos_general = hechos_dfs[0]\n",
    "for df in hechos_dfs[1:]:\n",
    "    hechos_general = hechos_general.unionByName(df, allowMissingColumns=True)\n",
    "\n",
    "vehiculos_dfs = [normalizar_df(f, year, vehiculos_renames, vehiculos_final_cols) for f, year in zip(vehiculos_files, range(2013, 2024))]\n",
    "vehiculos_general = vehiculos_dfs[0]\n",
    "for df in vehiculos_dfs[1:]:\n",
    "    vehiculos_general = vehiculos_general.unionByName(df, allowMissingColumns=True)\n"
   ]
  },
  {
   "cell_type": "markdown",
   "metadata": {
    "application/vnd.databricks.v1+cell": {
     "cellMetadata": {},
     "inputWidgets": {},
     "nuid": "807a7bba-c5c7-42d1-8bdc-ecbce23a1668",
     "showTitle": false,
     "tableResultSettingsMap": {},
     "title": ""
    }
   },
   "source": [
    "Vamos a usar el siguiente criterio para unir las tablas:\n",
    "\n",
    "- Que tengan el mismo mes, semana, día, año, hora, semana, etc.\n",
    "- Que tengan el mismo valor en todo lo relacionado al vehículo (marca, tipo, modelo, etc. )\n",
    "- Que hayan ocurrido en el mismo lugar y que las personas involucradas tengan las mismas características. "
   ]
  },
  {
   "cell_type": "code",
   "execution_count": 0,
   "metadata": {
    "application/vnd.databricks.v1+cell": {
     "cellMetadata": {
      "byteLimit": 2048000,
      "rowLimit": 10000
     },
     "inputWidgets": {},
     "nuid": "59958e66-c6c8-403a-a1b0-0b6c966ac004",
     "showTitle": false,
     "tableResultSettingsMap": {},
     "title": ""
    }
   },
   "outputs": [],
   "source": [
    "\n",
    "from pyspark.sql.functions import col\n",
    "vehiculos_clean = vehiculos_general.filter(\n",
    "    col(\"anio_ocu\").isNotNull() &\n",
    "    col(\"mes_ocu\").isNotNull() &\n",
    "    col(\"dia_sem_ocu\").isNotNull() &\n",
    "    col(\"dia_ocu\").isNotNull() &\n",
    "    col(\"hora_ocu\").isNotNull() &\n",
    "    col(\"depto_ocu\").isNotNull() &\n",
    "    col(\"mupio_ocu\").isNotNull() &\n",
    "    col(\"area_geo_ocu\").isNotNull() &\n",
    "    col(\"zona_ocu\").isNotNull() &\n",
    "    col(\"sexo\").isNotNull() &\n",
    "    col(\"edad\").isNotNull() &\n",
    "    col(\"estado_con\").isNotNull() &\n",
    "    col(\"tipo_veh\").isNotNull() &\n",
    "    col(\"marca_veh\").isNotNull() &\n",
    "    col(\"color_veh\").isNotNull() &\n",
    "    col(\"modelo_veh\").isNotNull() &\n",
    "    col(\"g_modelo_veh\").isNotNull() &\n",
    "    col(\"tipo_eve\").isNotNull() &\n",
    "    col(\"g_hora\").isNotNull() &\n",
    "    col(\"g_hora_5\").isNotNull()\n",
    ")\n",
    "\n",
    "hechos_clean = hechos_general.filter(\n",
    "    col(\"anio_ocu\").isNotNull() &\n",
    "    col(\"mes_ocu\").isNotNull() &\n",
    "    col(\"dia_sem_ocu\").isNotNull() &\n",
    "    col(\"dia_ocu\").isNotNull() &\n",
    "    col(\"hora_ocu\").isNotNull() &\n",
    "    col(\"depto_ocu\").isNotNull() &\n",
    "    col(\"mupio_ocu\").isNotNull() &\n",
    "    col(\"area_geo_ocu\").isNotNull() &\n",
    "    col(\"zona_ocu\").isNotNull() &\n",
    "    col(\"sexo\").isNotNull() &\n",
    "    col(\"edad\").isNotNull() &\n",
    "    col(\"estado_con\").isNotNull() &\n",
    "    col(\"tipo_veh\").isNotNull() &\n",
    "    col(\"marca_veh\").isNotNull() &\n",
    "    col(\"color_veh\").isNotNull() &\n",
    "    col(\"modelo_veh\").isNotNull() &\n",
    "    col(\"g_modelo_veh\").isNotNull() &\n",
    "    col(\"tipo_eve\").isNotNull() &    \n",
    "    col(\"g_hora\").isNotNull() &\n",
    "    col(\"g_hora_5\").isNotNull()\n",
    ")\n",
    "\n",
    "\n",
    "vehiculos_clean.createOrReplaceTempView(\"vehiculos\")\n",
    "hechos_clean.createOrReplaceTempView(\"hecho\")"
   ]
  },
  {
   "cell_type": "code",
   "execution_count": 0,
   "metadata": {
    "application/vnd.databricks.v1+cell": {
     "cellMetadata": {
      "byteLimit": 2048000,
      "rowLimit": 10000
     },
     "inputWidgets": {},
     "nuid": "ef13bc7a-d068-4212-bff2-45334291cb40",
     "showTitle": false,
     "tableResultSettingsMap": {},
     "title": ""
    }
   },
   "outputs": [],
   "source": [
    "\n",
    "\n",
    "joined = spark.sql(\"\"\"SELECT h.num_corre as id_hecho, v.*,  h.causa_acc, h.mayor_menor, h.estado_con  FROM  vehiculos v join hecho h ON v.anio_ocu = h.anio_ocu AND v.mes_ocu = h.mes_ocu \n",
    "                   AND v.dia_sem_ocu = h.dia_sem_ocu AND v.dia_ocu = h.dia_ocu AND v.hora_ocu = h.hora_ocu \n",
    "                   AND v.depto_ocu = h.depto_ocu AND v.mupio_ocu = h.mupio_ocu AND v.area_geo_ocu = h.area_geo_ocu \n",
    "                   AND v.zona_ocu = h.zona_ocu AND v.sexo = h.sexo AND v.edad = h.edad AND v.estado_con = h.estado_con \n",
    "                   AND v.tipo_veh = h.tipo_veh AND v.marca_veh = h.marca_veh AND v.color_veh = h.color_veh \n",
    "                   AND v.modelo_veh = h.modelo_veh AND v.g_modelo_veh = h.g_modelo_veh AND v.tipo_eve = h.tipo_eve\n",
    "                   AND v.g_hora = h.g_hora AND v.g_hora_5 = h.g_hora_5\"\"\")\n"
   ]
  },
  {
   "cell_type": "code",
   "execution_count": 0,
   "metadata": {
    "application/vnd.databricks.v1+cell": {
     "cellMetadata": {
      "byteLimit": 2048000,
      "rowLimit": 10000
     },
     "inputWidgets": {},
     "nuid": "dc039ca9-c472-48c2-82bf-440b34325c89",
     "showTitle": false,
     "tableResultSettingsMap": {},
     "title": ""
    }
   },
   "outputs": [],
   "source": [
    "joined.count()"
   ]
  },
  {
   "cell_type": "markdown",
   "metadata": {
    "application/vnd.databricks.v1+cell": {
     "cellMetadata": {},
     "inputWidgets": {},
     "nuid": "cb9e4f15-9ff5-45f4-8bc7-86c48264d389",
     "showTitle": false,
     "tableResultSettingsMap": {},
     "title": ""
    }
   },
   "source": [
    "Combinando las tablas y filtrando para aquellas que no tienen nulls, obtuvimos 6867 registros"
   ]
  },
  {
   "cell_type": "code",
   "execution_count": 0,
   "metadata": {
    "application/vnd.databricks.v1+cell": {
     "cellMetadata": {
      "byteLimit": 2048000,
      "rowLimit": 10000
     },
     "inputWidgets": {},
     "nuid": "f630fae2-184e-4962-97e0-e8c3dcabfcbf",
     "showTitle": false,
     "tableResultSettingsMap": {},
     "title": ""
    }
   },
   "outputs": [],
   "source": [
    "joined.createOrReplaceTempView(\"accidentes_vehiculos\")"
   ]
  },
  {
   "cell_type": "markdown",
   "metadata": {
    "application/vnd.databricks.v1+cell": {
     "cellMetadata": {},
     "inputWidgets": {},
     "nuid": "1dc6570c-fe3d-423c-9403-89e2b8cbe800",
     "showTitle": false,
     "tableResultSettingsMap": {},
     "title": ""
    }
   },
   "source": [
    "Ahora vamos a ver cuántos vehículos están involucrados en cada accidente en promedio por cada departamento"
   ]
  },
  {
   "cell_type": "code",
   "execution_count": 0,
   "metadata": {
    "application/vnd.databricks.v1+cell": {
     "cellMetadata": {
      "byteLimit": 2048000,
      "rowLimit": 10000
     },
     "inputWidgets": {},
     "nuid": "3d1d5e75-2635-467c-a921-7b0cef2309d6",
     "showTitle": false,
     "tableResultSettingsMap": {},
     "title": ""
    }
   },
   "outputs": [],
   "source": [
    "import matplotlib.pyplot as plt\n",
    "df_departamentos = spark.sql(\"\"\"\n",
    "SELECT \n",
    "  CASE departamento\n",
    "    WHEN 1 THEN 'Guatemala'\n",
    "    WHEN 2 THEN 'El Progreso'\n",
    "    WHEN 3 THEN 'Sacatepéquez'\n",
    "    WHEN 4 THEN 'Chimaltenango'\n",
    "    WHEN 5 THEN 'Escuintla'\n",
    "    WHEN 6 THEN 'Santa Rosa'\n",
    "    WHEN 7 THEN 'Sololá'\n",
    "    WHEN 8 THEN 'Totonicapán'\n",
    "    WHEN 9 THEN 'Quetzaltenango'\n",
    "    WHEN 10 THEN 'Suchitepéquez'\n",
    "    WHEN 11 THEN 'Retalhuleu'\n",
    "    WHEN 12 THEN 'San Marcos'\n",
    "    WHEN 13 THEN 'Huehuetenango'\n",
    "    WHEN 14 THEN 'Quiché'\n",
    "    WHEN 15 THEN 'Baja Verapaz'\n",
    "    WHEN 16 THEN 'Alta Verapaz'\n",
    "    WHEN 17 THEN 'Petén'\n",
    "    WHEN 18 THEN 'Izabal'\n",
    "    WHEN 19 THEN 'Zacapa'\n",
    "    WHEN 20 THEN 'Chiquimula'\n",
    "    WHEN 21 THEN 'Jalapa'\n",
    "    WHEN 22 THEN 'Jutiapa'\n",
    "    ELSE 'Desconocido'\n",
    "  END AS nombre_departamento,\n",
    "  AVG(total_autos) AS promedio_autos\n",
    "FROM (\n",
    "  SELECT \n",
    "    id_hecho, \n",
    "    COUNT(*) AS total_autos, \n",
    "    MAX(depto_ocu) AS departamento\n",
    "  FROM accidentes_vehiculos\n",
    "  GROUP BY id_hecho\n",
    ")\n",
    "GROUP BY departamento\n",
    "ORDER BY departamento\n",
    "\"\"\")\n",
    "\n",
    "df_departamentos.write.mode(\"overwrite\").parquet(\"/Volumes/workspace/default/lab8_new/departamentos_promedio_autos.parquet\")\n",
    "df_departamentos_pd = df_departamentos.toPandas()\n",
    "figure, ax = plt.subplots(figsize=(10, 6))\n",
    "ax.bar(df_departamentos_pd[\"nombre_departamento\"], df_departamentos_pd[\"promedio_autos\"])\n",
    "ax.set_title(\"Promedio de vehículos involucrados en accidente en promedio por departamento \")\n",
    "ax.set_xlabel(\"Departamento\")\n",
    "ax.set_ylabel(\"Promedio de vehículos\")\n",
    "ax.tick_params(axis='x', rotation=45)\n",
    "ax.grid(axis='y', linestyle='--', alpha=0.7)\n",
    "plt.show()\n",
    "\n"
   ]
  },
  {
   "cell_type": "markdown",
   "metadata": {
    "application/vnd.databricks.v1+cell": {
     "cellMetadata": {},
     "inputWidgets": {},
     "nuid": "cdf33d5d-d877-4b49-997d-2a9eb341642d",
     "showTitle": false,
     "tableResultSettingsMap": {},
     "title": ""
    }
   },
   "source": [
    "Ahora vamos a hallar el top 5 de colores de vehículos más frecuente en accidentes"
   ]
  },
  {
   "cell_type": "code",
   "execution_count": 0,
   "metadata": {
    "application/vnd.databricks.v1+cell": {
     "cellMetadata": {
      "byteLimit": 2048000,
      "rowLimit": 10000
     },
     "inputWidgets": {},
     "nuid": "388f5a6a-20b3-4a57-b510-410cd2be626a",
     "showTitle": false,
     "tableResultSettingsMap": {
      "0": {
       "dataGridStateBlob": "{\"version\":1,\"tableState\":{\"columnPinning\":{\"left\":[\"#row_number#\"],\"right\":[]},\"columnSizing\":{},\"columnVisibility\":{}},\"settings\":{\"columns\":{}},\"syncTimestamp\":1759793826118}",
       "filterBlob": null,
       "queryPlanFiltersBlob": null,
       "tableResultIndex": 0
      }
     },
     "title": ""
    }
   },
   "outputs": [],
   "source": [
    "display(spark.sql(\"\"\"\n",
    "SELECT\n",
    "    CASE color_veh\n",
    "        WHEN 1 THEN 'Rojo'\n",
    "        WHEN 2 THEN 'Blanco'\n",
    "        WHEN 3 THEN 'Azul'\n",
    "        WHEN 4 THEN 'Gris'\n",
    "        WHEN 5 THEN 'Negro'\n",
    "        WHEN 6 THEN 'Verde'\n",
    "        WHEN 7 THEN 'Amarillo'\n",
    "        WHEN 8 THEN 'Celeste'\n",
    "        WHEN 9 THEN 'Corinto'\n",
    "        WHEN 10 THEN 'Café'\n",
    "        WHEN 11 THEN 'Beige'\n",
    "        WHEN 12 THEN 'Turquesa'\n",
    "        WHEN 13 THEN 'Marfil'\n",
    "        WHEN 14 THEN 'Anaranjado'\n",
    "        WHEN 15 THEN 'Morado'\n",
    "        WHEN 16 THEN 'Rosado'\n",
    "        WHEN 17 THEN 'Varios colores'\n",
    "        WHEN 99 THEN 'Ignorado'\n",
    "        ELSE 'Desconocido'\n",
    "    END AS color_nombre, COUNT(*) as Total\n",
    "FROM vehiculos GROUP BY color_nombre ORDER BY COUNT(*) DESC LIMIT 5;\n",
    "                  \"\"\"))"
   ]
  },
  {
   "cell_type": "markdown",
   "metadata": {
    "application/vnd.databricks.v1+cell": {
     "cellMetadata": {},
     "inputWidgets": {},
     "nuid": "a12465ff-10a0-4f93-8b8f-93520af38815",
     "showTitle": false,
     "tableResultSettingsMap": {},
     "title": ""
    }
   },
   "source": [
    "Vemos que en la mayoría de los accidentes se desconoce el color del vehículo, lugo vemos que los carros blancos son los que están más involucrados en accidentes segudos del color rojo, es llamativo que estos colores estén presentes pues se saba que son colores bastante atractivos y a veces pueden ser factores de distracción. "
   ]
  },
  {
   "cell_type": "markdown",
   "metadata": {
    "application/vnd.databricks.v1+cell": {
     "cellMetadata": {},
     "inputWidgets": {},
     "nuid": "bed33007-4ac5-489e-aa01-94827b90aa1e",
     "showTitle": false,
     "tableResultSettingsMap": {},
     "title": ""
    }
   },
   "source": [
    "Ahora debemos calcular cuantos lesionados hubo por atropello por mes, para eso ahora vamos a usar los datasets de lesionados y haremos las mismas tranformaciones que hicimos para vehículos y hechos"
   ]
  },
  {
   "cell_type": "code",
   "execution_count": 0,
   "metadata": {
    "application/vnd.databricks.v1+cell": {
     "cellMetadata": {
      "byteLimit": 2048000,
      "rowLimit": 10000
     },
     "inputWidgets": {},
     "nuid": "e20d3227-8c32-495d-b202-8130c0e678f3",
     "showTitle": false,
     "tableResultSettingsMap": {},
     "title": ""
    }
   },
   "outputs": [],
   "source": [
    "from pyspark.sql.functions import col, when\n",
    "lesionados_renames = {\n",
    "    \"num_hecho\": \"num_corre\",\n",
    "    \"num_correlativo\": \"num_corre\",\n",
    "    \"num_corre\": \"num_corre\",\n",
    "    \"Num_corre\": \"num_corre\",\n",
    "    \"año_ocu\": \"anio_ocu\",\n",
    "    \"ano_ocu\": \"anio_ocu\",\n",
    "    \"anio_ocu\": \"anio_ocu\",\n",
    "    \"dia_ocu\": \"dia_ocu\",\n",
    "    \"dia\": \"dia_ocu\",\n",
    "    \"dia_sem_ocu\": \"dia_sem_ocu\",\n",
    "    \"mes_ocu\": \"mes_ocu\",\n",
    "    \"mes\": \"mes_ocu\",\n",
    "    \"hora_ocu\": \"hora_ocu\",\n",
    "    \"hora\": \"hora_ocu\",\n",
    "    \"g_hora\": \"g_hora\",\n",
    "    \"g_hora_5\": \"g_hora_5\",\n",
    "    \"depto_ocu\": \"depto_ocu\",\n",
    "    \"mupio_ocu\": \"mupio_ocu\",\n",
    "    \"zona_ocu\": \"zona_ocu\",\n",
    "    \"zona_ciudad\": \"zona_ciudad\",\n",
    "    \"areag_ocu\": \"area_geo_ocu\",\n",
    "    \"area_geo_ocu\": \"area_geo_ocu\",\n",
    "    \"sexo_pil\": \"sexo\",\n",
    "    \"sexo_per\": \"sexo\",\n",
    "    \"sexo_vic\": \"sexo\",\n",
    "    \"edad_pil\": \"edad\",\n",
    "    \"edad_per\": \"edad\",\n",
    "    \"edad_vic\": \"edad\",\n",
    "    \"g_edad\": \"g_edad\",\n",
    "    \"g_edad_2\": \"g_edad_2\",\n",
    "    \"edad_quinquenales\": \"edad_quinquenales\",\n",
    "    \"g_edad_60ymas\": \"g_edad_60ymas\",\n",
    "    \"g_edad_80ymas\": \"g_edad_80ymas\",\n",
    "    \"mayor_menor\": \"mayor_menor\",\n",
    "    \"Otro_g_edad_fall_les\": \"otro_g_edad_fall_les\",\n",
    "    \"tipo_veh\": \"tipo_veh\",\n",
    "    \"marca_veh\": \"marca_veh\",\n",
    "    \"color_veh\": \"color_veh\",\n",
    "    \"modelo_veh\": \"modelo_veh\",\n",
    "    \"g_modelo_veh\": \"g_modelo_veh\",\n",
    "    \"tipo_eve\": \"tipo_eve\",\n",
    "    \"fall_les\": \"fall_les\",\n",
    "    \"Fallecidos_Lesionados\": \"fall_les\",\n",
    "    \"int_o_noint\": \"int_o_noint\",\n",
    "    \"g_edad_80ymas\": \"g_edad_80ymas\",\n",
    "    \"g_edad_60ymas\": \"g_edad_60ymas\"\n",
    "}\n",
    "\n",
    "lesionados_final_cols = [\n",
    "    \"num_corre\",          \n",
    "    \"anio_ocu\",          \n",
    "    \"mes_ocu\",            \n",
    "    \"dia_ocu\",           \n",
    "    \"dia_sem_ocu\",        \n",
    "    \"hora_ocu\",           \n",
    "    \"g_hora\",            \n",
    "    \"g_hora_5\",           \n",
    "    \"depto_ocu\",          \n",
    "    \"mupio_ocu\",         \n",
    "    \"area_geo_ocu\",       \n",
    "    \"zona_ocu\",           \n",
    "    \"zona_ciudad\",        \n",
    "    \"sexo\",               \n",
    "    \"edad\",               \n",
    "    \"g_edad\",   \n",
    "    \"mayor_menor\",        \n",
    "    \"tipo_veh\",           \n",
    "    \"marca_veh\",        \n",
    "    \"color_veh\",          \n",
    "    \"modelo_veh\",         \n",
    "    \"g_modelo_veh\",       \n",
    "    \"tipo_eve\",           \n",
    "    \"fall_les\",           \n",
    "    \"int_o_noint\",        \n",
    "    \"otro_g_edad_fall_les\",\n",
    "    \"tipo_eve_cod\"\n",
    "]\n",
    "\n",
    "\n",
    "lesionados_dfs = []\n",
    "for f, year in zip(lesionados_files, range(2013, 2024)):\n",
    "    df = (\n",
    "    spark.read\n",
    "    .option(\"header\", \"true\")\n",
    "    .option(\"inferSchema\", \"true\")\n",
    "    .csv(\"/Volumes/workspace/default/lab8_new/\" + f)\n",
    "    )\n",
    "    if year == 2014:\n",
    "        for c in [\"num_corre\", \"corre_base\"]:\n",
    "            if c in df.columns:\n",
    "                df = df.drop(c)\n",
    "    df = normalizar_df(f, year, lesionados_renames, lesionados_final_cols)\n",
    "    lesionados_dfs.append(df)\n",
    "\n",
    "\n",
    "\n",
    "lesionados_general = lesionados_dfs[0]\n",
    "for df in lesionados_dfs[1:]:\n",
    "    lesionados_general = lesionados_general.unionByName(df, allowMissingColumns=True)\n",
    "\n"
   ]
  },
  {
   "cell_type": "markdown",
   "metadata": {
    "application/vnd.databricks.v1+cell": {
     "cellMetadata": {},
     "inputWidgets": {},
     "nuid": "98b08313-61c0-4f78-a3b3-55bb808c8ecc",
     "showTitle": false,
     "tableResultSettingsMap": {},
     "title": ""
    }
   },
   "source": [
    "Ahora vamos a ver cuantos lesionados por atropello hubo en 2023"
   ]
  },
  {
   "cell_type": "code",
   "execution_count": 0,
   "metadata": {
    "application/vnd.databricks.v1+cell": {
     "cellMetadata": {
      "byteLimit": 2048000,
      "rowLimit": 10000
     },
     "inputWidgets": {},
     "nuid": "b1bba87a-8daf-4993-ad5e-d33801af207c",
     "showTitle": false,
     "tableResultSettingsMap": {},
     "title": ""
    }
   },
   "outputs": [],
   "source": [
    "lesionados_general.createOrReplaceTempView(\"lesionados\")"
   ]
  },
  {
   "cell_type": "code",
   "execution_count": 0,
   "metadata": {
    "application/vnd.databricks.v1+cell": {
     "cellMetadata": {
      "byteLimit": 2048000,
      "rowLimit": 10000
     },
     "inputWidgets": {},
     "nuid": "b21afb65-0767-4d17-b66c-cedced6ff191",
     "showTitle": false,
     "tableResultSettingsMap": {},
     "title": ""
    }
   },
   "outputs": [],
   "source": [
    "lesionados_general.printSchema()"
   ]
  },
  {
   "cell_type": "code",
   "execution_count": 0,
   "metadata": {
    "application/vnd.databricks.v1+cell": {
     "cellMetadata": {
      "byteLimit": 2048000,
      "rowLimit": 10000
     },
     "inputWidgets": {},
     "nuid": "7fbc4e77-5441-4e75-b91f-8d213b7bda97",
     "showTitle": false,
     "tableResultSettingsMap": {
      "0": {
       "dataGridStateBlob": "{\"version\":1,\"tableState\":{\"columnPinning\":{\"left\":[\"#row_number#\"],\"right\":[]},\"columnSizing\":{},\"columnVisibility\":{}},\"settings\":{\"columns\":{}},\"syncTimestamp\":1759797591318}",
       "filterBlob": null,
       "queryPlanFiltersBlob": null,
       "tableResultIndex": 0
      }
     },
     "title": ""
    }
   },
   "outputs": [],
   "source": [
    "display(spark.sql(\"SELECT anio_ocu, mes_ocu FROM lesionados WHERE tipo_eve_cod = 5 \"))"
   ]
  },
  {
   "cell_type": "markdown",
   "metadata": {
    "application/vnd.databricks.v1+cell": {
     "cellMetadata": {},
     "inputWidgets": {},
     "nuid": "274362a1-7770-46f8-83a7-22fa35e01299",
     "showTitle": false,
     "tableResultSettingsMap": {},
     "title": ""
    }
   },
   "source": [
    "Ahora veremos en que franja horaria ocurren más accidentes"
   ]
  },
  {
   "cell_type": "code",
   "execution_count": 0,
   "metadata": {
    "application/vnd.databricks.v1+cell": {
     "cellMetadata": {
      "byteLimit": 2048000,
      "rowLimit": 10000
     },
     "inputWidgets": {},
     "nuid": "6dfe93fd-5d77-4717-8e5a-fe7a31f2438b",
     "showTitle": false,
     "tableResultSettingsMap": {},
     "title": ""
    }
   },
   "outputs": [],
   "source": [
    "spark.sql(\"\"\"\n",
    "SELECT \n",
    "    \n",
    "    CASE \n",
    "        WHEN g_hora = 1 THEN '00:00 a 05:59'\n",
    "        WHEN g_hora = 2 THEN '06:00 a 11:59'\n",
    "        WHEN g_hora = 3 THEN '12:00 a 17:59'\n",
    "        WHEN g_hora = 4 THEN '18:00 a 23:59'\n",
    "        WHEN g_hora = 5 THEN 'Ignorada'\n",
    "        ELSE 'Desconocido'\n",
    "    END AS rango_hora, \n",
    "    COUNT(*) as total\n",
    "FROM hecho GROUP BY rango_hora\n",
    "\"\"\").show()\n"
   ]
  },
  {
   "cell_type": "markdown",
   "metadata": {
    "application/vnd.databricks.v1+cell": {
     "cellMetadata": {},
     "inputWidgets": {},
     "nuid": "d88063e0-b0e5-4d18-b0e7-3a9ebcc57fe8",
     "showTitle": false,
     "tableResultSettingsMap": {},
     "title": ""
    }
   },
   "source": [
    "**Calcular, para el municipio de Guatemala, cuántos accidentes hay por zona y\n",
    "cuántos fallecidos se reportan en cada una. Generar un gráfico de barras con ambos\n",
    "indicadores**\n"
   ]
  },
  {
   "cell_type": "code",
   "execution_count": 0,
   "metadata": {
    "application/vnd.databricks.v1+cell": {
     "cellMetadata": {
      "byteLimit": 2048000,
      "rowLimit": 10000
     },
     "inputWidgets": {},
     "nuid": "692293c3-4e5b-4d08-b5b5-07396b93f9d3",
     "showTitle": false,
     "tableResultSettingsMap": {},
     "title": ""
    }
   },
   "outputs": [],
   "source": [
    "from pyspark.sql.functions import col, count\n",
    "\n",
    "df_resumen = df.filter(col(\"mupio_ocu\") == \"Guatemala\") \\\n",
    "               .groupBy(\"zona_ocu\") \\\n",
    "               .agg(count(\"*\").alias(\"total_accidentes\")) \\\n",
    "               .orderBy(\"zona_ocu\")\n",
    "\n",
    "df_resumen.show()\n"
   ]
  },
  {
   "cell_type": "code",
   "execution_count": 0,
   "metadata": {
    "application/vnd.databricks.v1+cell": {
     "cellMetadata": {
      "byteLimit": 2048000,
      "rowLimit": 10000
     },
     "inputWidgets": {},
     "nuid": "8c0741ab-7e31-4d54-bb45-1586dc7a68ab",
     "showTitle": false,
     "tableResultSettingsMap": {},
     "title": ""
    }
   },
   "outputs": [],
   "source": [
    "# Convertimos a pandas\n",
    "pdf = df_resumen.toPandas()\n",
    "\n",
    "import matplotlib.pyplot as plt\n",
    "import seaborn as sns\n",
    "\n",
    "plt.figure(figsize=(12,6))\n",
    "sns.barplot(x=\"zona_ocu\", y=\"total_accidentes\", data=pdf, palette=\"Blues_d\")\n",
    "plt.xlabel(\"Zona\")\n",
    "plt.ylabel(\"Total de Accidentes\")\n",
    "plt.title(\"Accidentes por Zona - Municipio de Guatemala\")\n",
    "plt.xticks(rotation=45)\n",
    "plt.show()\n"
   ]
  },
  {
   "cell_type": "markdown",
   "metadata": {
    "application/vnd.databricks.v1+cell": {
     "cellMetadata": {},
     "inputWidgets": {},
     "nuid": "384d4f37-4654-43d3-9672-a4682428fd3f",
     "showTitle": false,
     "tableResultSettingsMap": {},
     "title": ""
    }
   },
   "source": [
    "Podemos ver que la mayoia de accidentes suceden en la zona 7 y en zona 12. Esto muy posible porque son zonas no de viviendo sino en donde estan las carreteras mas importantes de la ciudad, esto causa mas congestion y probabilidad que ocurran accidentes."
   ]
  },
  {
   "cell_type": "markdown",
   "metadata": {
    "application/vnd.databricks.v1+cell": {
     "cellMetadata": {},
     "inputWidgets": {},
     "nuid": "ff716898-80dd-4589-83cc-46509151af89",
     "showTitle": false,
     "tableResultSettingsMap": {},
     "title": ""
    }
   },
   "source": [
    "**Crear un DataFrame que muestre el porcentaje de accidentes donde el conductor\n",
    "era hombre vs mujer (tabla vehículos). Guardar como Parquet. Finalmente, vuélvalo a\n",
    "cargar y grafique con display en gráfico de pie**"
   ]
  },
  {
   "cell_type": "code",
   "execution_count": 0,
   "metadata": {
    "application/vnd.databricks.v1+cell": {
     "cellMetadata": {
      "byteLimit": 2048000,
      "rowLimit": 10000
     },
     "inputWidgets": {},
     "nuid": "fbba8b81-4bc2-4915-9603-9110ff05623e",
     "showTitle": false,
     "tableResultSettingsMap": {},
     "title": ""
    }
   },
   "outputs": [],
   "source": [
    "from pyspark.sql.functions import col, count, round as spark_round\n",
    "\n",
    "# Cargar tabla vehiculos\n",
    "df_veh = spark.table(\"vehiculos\")\n",
    "\n",
    "# Contar por sexo\n",
    "df_sexo = df_veh.groupBy(\"sexo\").agg(count(\"*\").alias(\"total\"))\n",
    "\n",
    "# Calcular porcentaje usando round de pyspark\n",
    "total_accidentes = df_veh.count()\n",
    "df_sexo = df_sexo.withColumn(\n",
    "    \"porcentaje\",\n",
    "    spark_round(col(\"total\") / total_accidentes * 100, 2)\n",
    ")\n",
    "\n",
    "# Reemplazar valores de sexo por nombre usando int en lugar de float\n",
    "df_sexo = df_sexo.replace({1: \"Hombre\", 2: \"Mujer\", 9: \"Ignorado\"}, \"sexo\")\n",
    "\n",
    "df_sexo.show()\n"
   ]
  },
  {
   "cell_type": "code",
   "execution_count": 0,
   "metadata": {
    "application/vnd.databricks.v1+cell": {
     "cellMetadata": {
      "byteLimit": 2048000,
      "rowLimit": 10000
     },
     "inputWidgets": {},
     "nuid": "a353eff9-4b84-4981-aa28-d51bdbfca362",
     "showTitle": false,
     "tableResultSettingsMap": {},
     "title": ""
    }
   },
   "outputs": [],
   "source": [
    "from pyspark.sql.functions import col, count, round as spark_round, when\n",
    "\n",
    "# Contar por sexo\n",
    "df_sexo = df_veh.groupBy(\"sexo\").agg(count(\"*\").alias(\"total\"))\n",
    "\n",
    "# Calcular porcentaje\n",
    "total_accidentes = df_veh.count()\n",
    "df_sexo = df_sexo.withColumn(\n",
    "    \"porcentaje\",\n",
    "    spark_round(col(\"total\") / total_accidentes * 100, 2)\n",
    ")\n",
    "\n",
    "# Reemplazar usando when / otherwise\n",
    "df_sexo = df_sexo.withColumn(\n",
    "    \"sexo\",\n",
    "    when(col(\"sexo\") == 1.0, \"Hombre\")\n",
    "    .when(col(\"sexo\") == 2.0, \"Mujer\")\n",
    "    .when(col(\"sexo\") == 9.0, \"Ignorado\")\n",
    "    .otherwise(\"Desconocido\")\n",
    ")\n",
    "\n",
    "df_sexo.show()\n"
   ]
  },
  {
   "cell_type": "code",
   "execution_count": 0,
   "metadata": {
    "application/vnd.databricks.v1+cell": {
     "cellMetadata": {
      "byteLimit": 2048000,
      "rowLimit": 10000
     },
     "inputWidgets": {},
     "nuid": "8a97ef02-f409-4a33-b520-f0ecfc17c3ef",
     "showTitle": false,
     "tableResultSettingsMap": {},
     "title": ""
    }
   },
   "outputs": [],
   "source": [
    "# Path local para guardar Parquet\n",
    "ruta_parquet_local = \"/Volumes/workspace/default/lab8_new/vehiculos_por_sexo.parquet\"\n",
    "\n",
    "df_sexo.write.mode(\"overwrite\").parquet(ruta_parquet_local)\n",
    "\n",
    "df_sexo_recargado = spark.read.parquet(ruta_parquet_local)\n",
    "\n",
    "display(df_sexo_recargado)\n"
   ]
  },
  {
   "cell_type": "code",
   "execution_count": 0,
   "metadata": {
    "application/vnd.databricks.v1+cell": {
     "cellMetadata": {
      "byteLimit": 2048000,
      "rowLimit": 10000
     },
     "inputWidgets": {},
     "nuid": "6c05a286-d907-40d3-95ad-c589b545bbf8",
     "showTitle": false,
     "tableResultSettingsMap": {},
     "title": ""
    }
   },
   "outputs": [],
   "source": [
    "df_sexo_pd = df_sexo_recargado.toPandas()\n",
    "\n",
    "# Datos para el gráfico\n",
    "labels = df_sexo_pd[\"sexo\"]\n",
    "sizes = df_sexo_pd[\"total\"]\n",
    "\n",
    "# Colores opcionales\n",
    "colors = [\"#1f77b4\", \"#ff7f0e\", \"#2ca02c\"]  # Hombre, Mujer, Ignorado\n",
    "\n",
    "# Graficar\n",
    "plt.figure(figsize=(7,7))\n",
    "plt.pie(sizes, labels=labels, autopct=\"%1.1f%%\", colors=colors, startangle=140)\n",
    "plt.title(\"Distribución de accidentes por sexo\")\n",
    "plt.show()"
   ]
  },
  {
   "cell_type": "markdown",
   "metadata": {
    "application/vnd.databricks.v1+cell": {
     "cellMetadata": {},
     "inputWidgets": {},
     "nuid": "f0ca50cd-bd81-43d0-8e8b-4a100ccdf6e3",
     "showTitle": false,
     "tableResultSettingsMap": {},
     "title": ""
    }
   },
   "source": [
    "Como podemos ver los hombres son los que mas accidentes de vehiculos causan a las personas.Esto puede ser debido a que son el sector de la poblacion que mas conduce y debido a esto generan muchos accidentes. \n",
    "\n",
    "Y el menor cantidad de accidentes causados es los hombres. "
   ]
  }
 ],
 "metadata": {
  "application/vnd.databricks.v1+notebook": {
   "computePreferences": null,
   "dashboards": [
    {
     "elements": [
      {
       "dashboardResultIndex": 0,
       "elementNUID": "589bc792-6add-4aca-984d-072a1458f9c4",
       "elementType": "command",
       "guid": "7b563ab8-3b35-4420-b563-9fd2c2746fe0",
       "options": null,
       "position": {
        "height": 6,
        "width": 12,
        "x": 0,
        "y": 0,
        "z": null
       },
       "resultIndex": null
      }
     ],
     "globalVars": {},
     "guid": "",
     "layoutOption": {
      "grid": true,
      "stack": true
     },
     "nuid": "3a1c1068-ea58-49b6-9b98-6586e8d0f2f6",
     "origId": 4967281850441977,
     "title": "Untitled",
     "version": "DashboardViewV1",
     "width": 1024
    }
   ],
   "environmentMetadata": {
    "base_environment": "",
    "environment_version": "3"
   },
   "inputWidgetPreferences": null,
   "language": "python",
   "notebookMetadata": {
    "pythonIndentUnit": 4
   },
   "notebookName": "Lab8",
   "widgets": {}
  },
  "language_info": {
   "name": "python"
  }
 },
 "nbformat": 4,
 "nbformat_minor": 0
}
